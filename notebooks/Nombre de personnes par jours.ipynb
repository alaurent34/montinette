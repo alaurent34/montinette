{
 "cells": [
  {
   "cell_type": "code",
   "execution_count": 17,
   "metadata": {},
   "outputs": [],
   "source": [
    "import datetime\n",
    "import numpy as np\n",
    "import pandas as pd\n",
    "\n",
    "import matplotlib.pyplot as plt\n",
    "from matplotlib.ticker import (MultipleLocator, AutoMinorLocator)\n",
    "import seaborn as sns"
   ]
  },
  {
   "cell_type": "markdown",
   "metadata": {},
   "source": [
    "#### Fonctions utiles"
   ]
  },
  {
   "cell_type": "code",
   "execution_count": 3,
   "metadata": {},
   "outputs": [],
   "source": [
    "sondage = pd.read_excel('./../../34_Rapports/Observateur - Données qualitatives 2022/Nettoyage des données/test.xlsx')"
   ]
  },
  {
   "cell_type": "code",
   "execution_count": 86,
   "metadata": {},
   "outputs": [],
   "source": [
    "park_occup = pd.read_csv('Nombre de transactions_[2017].csv')"
   ]
  },
  {
   "cell_type": "code",
   "execution_count": 87,
   "metadata": {},
   "outputs": [],
   "source": [
    "nb_pers_veh = sondage.groupby(['Période'])['Nombre de personnes dans le véhicule'].mean().to_frame()"
   ]
  },
  {
   "cell_type": "code",
   "execution_count": 92,
   "metadata": {},
   "outputs": [],
   "source": [
    "park_occup['datetime'] = list(map(datetime.datetime, park_occup.year, park_occup.month, park_occup.day))\n",
    "park_occup['Période'] = ['Fin de semaine' if x.day_of_week in [5,6] else 'Semaine' for x in park_occup.datetime]\n",
    "\n",
    "nb_veh = park_occup.groupby(['datetime', 'Période']).transactions_count_corrected.sum().groupby('Période').agg(['mean', 'size'])\n",
    "nb_veh = nb_veh.rename(columns={'mean': 'Nombre de véhicules moyen', 'size':'Nombre de journée'})"
   ]
  },
  {
   "cell_type": "code",
   "execution_count": 93,
   "metadata": {},
   "outputs": [],
   "source": [
    "data = nb_veh.join(nb_pers_veh)\n",
    "data.loc['Tous', :] = [\n",
    "    (\n",
    "        (data.loc['Fin de semaine', 'Nombre de véhicules moyen'] * data.loc['Fin de semaine', 'Nombre de journée']) +\n",
    "        (data.loc['Semaine', 'Nombre de véhicules moyen'] * data.loc['Semaine', 'Nombre de journée'])\n",
    "     ) / (data.loc['Fin de semaine', 'Nombre de journée'] + data.loc['Semaine', 'Nombre de journée']),\n",
    "    data.loc['Fin de semaine', 'Nombre de journée'] + data.loc['Semaine', 'Nombre de journée'],\n",
    "    sondage['Nombre de personnes dans le véhicule'].mean()\n",
    "]\n",
    "data['Nombre de personnes en voiture'] = data['Nombre de véhicules moyen'] * data['Nombre de personnes dans le véhicule']\n",
    "data = data.round(2)"
   ]
  },
  {
   "cell_type": "code",
   "execution_count": 99,
   "metadata": {},
   "outputs": [],
   "source": [
    "data.to_excel('../Nombre_de_véhicules_par_jours.xlsx', index=True)"
   ]
  }
 ],
 "metadata": {
  "kernelspec": {
   "display_name": "Python 3.8.10 ('base')",
   "language": "python",
   "name": "python3"
  },
  "language_info": {
   "codemirror_mode": {
    "name": "ipython",
    "version": 3
   },
   "file_extension": ".py",
   "mimetype": "text/x-python",
   "name": "python",
   "nbconvert_exporter": "python",
   "pygments_lexer": "ipython3",
   "version": "3.8.10"
  },
  "orig_nbformat": 4,
  "vscode": {
   "interpreter": {
    "hash": "a7792c3390c07c63a7a966a3a3ca934860c44ed40471cbbdd55ff0b118592de6"
   }
  }
 },
 "nbformat": 4,
 "nbformat_minor": 2
}
