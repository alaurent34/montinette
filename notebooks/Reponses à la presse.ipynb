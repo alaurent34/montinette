{
 "cells": [
  {
   "cell_type": "code",
   "execution_count": 1,
   "metadata": {},
   "outputs": [],
   "source": [
    "import datetime\n",
    "import pandas as pd\n",
    "import numpy as np"
   ]
  },
  {
   "cell_type": "code",
   "execution_count": 2,
   "metadata": {},
   "outputs": [],
   "source": [
    "df = pd.read_excel('./Transactions_générées_[2017].xlsx')"
   ]
  },
  {
   "cell_type": "code",
   "execution_count": 3,
   "metadata": {},
   "outputs": [],
   "source": [
    "df['date'] = df.apply(lambda x:datetime.date(int(x.year), int(x.month), int(x.day)), axis=1)\n",
    "df.date = pd.to_datetime(df.date)"
   ]
  },
  {
   "cell_type": "code",
   "execution_count": 4,
   "metadata": {},
   "outputs": [],
   "source": [
    "df['ind_semaine'] = ['Fin de semaine' if date in [5,6] else 'Semaine' for date in df.date.dt.day_of_week]"
   ]
  },
  {
   "cell_type": "code",
   "execution_count": 5,
   "metadata": {},
   "outputs": [],
   "source": [
    "mask = (df.hour > 6) & (df.hour < 23) & (df.month > 6) & (df.month < 10)\n",
    "only_pm = (df.hour > 12) & (df.hour < 18)\n",
    "sup50 = df.occup >= 50\n",
    "sup60 = df.occup >= 60"
   ]
  },
  {
   "cell_type": "code",
   "execution_count": 8,
   "metadata": {},
   "outputs": [
    {
     "data": {
      "text/html": [
       "<div>\n",
       "<style scoped>\n",
       "    .dataframe tbody tr th:only-of-type {\n",
       "        vertical-align: middle;\n",
       "    }\n",
       "\n",
       "    .dataframe tbody tr th {\n",
       "        vertical-align: top;\n",
       "    }\n",
       "\n",
       "    .dataframe thead th {\n",
       "        text-align: right;\n",
       "    }\n",
       "</style>\n",
       "<table border=\"1\" class=\"dataframe\">\n",
       "  <thead>\n",
       "    <tr style=\"text-align: right;\">\n",
       "      <th></th>\n",
       "      <th>count</th>\n",
       "      <th>mean</th>\n",
       "      <th>std</th>\n",
       "      <th>min</th>\n",
       "      <th>25%</th>\n",
       "      <th>50%</th>\n",
       "      <th>75%</th>\n",
       "      <th>max</th>\n",
       "    </tr>\n",
       "    <tr>\n",
       "      <th>ind_semaine</th>\n",
       "      <th></th>\n",
       "      <th></th>\n",
       "      <th></th>\n",
       "      <th></th>\n",
       "      <th></th>\n",
       "      <th></th>\n",
       "      <th></th>\n",
       "      <th></th>\n",
       "    </tr>\n",
       "  </thead>\n",
       "  <tbody>\n",
       "    <tr>\n",
       "      <th>Fin de semaine</th>\n",
       "      <td>432.0</td>\n",
       "      <td>52.850972</td>\n",
       "      <td>32.459013</td>\n",
       "      <td>0.0</td>\n",
       "      <td>25.2075</td>\n",
       "      <td>54.0</td>\n",
       "      <td>77.790</td>\n",
       "      <td>126.21</td>\n",
       "    </tr>\n",
       "    <tr>\n",
       "      <th>Semaine</th>\n",
       "      <td>1040.0</td>\n",
       "      <td>30.173404</td>\n",
       "      <td>19.328025</td>\n",
       "      <td>0.0</td>\n",
       "      <td>15.5900</td>\n",
       "      <td>29.1</td>\n",
       "      <td>41.415</td>\n",
       "      <td>166.62</td>\n",
       "    </tr>\n",
       "  </tbody>\n",
       "</table>\n",
       "</div>"
      ],
      "text/plain": [
       "                 count       mean        std  min      25%   50%     75%  \\\n",
       "ind_semaine                                                                \n",
       "Fin de semaine   432.0  52.850972  32.459013  0.0  25.2075  54.0  77.790   \n",
       "Semaine         1040.0  30.173404  19.328025  0.0  15.5900  29.1  41.415   \n",
       "\n",
       "                   max  \n",
       "ind_semaine             \n",
       "Fin de semaine  126.21  \n",
       "Semaine         166.62  "
      ]
     },
     "execution_count": 8,
     "metadata": {},
     "output_type": "execute_result"
    }
   ],
   "source": [
    "df[mask].groupby('ind_semaine').occup.describe()"
   ]
  },
  {
   "cell_type": "code",
   "execution_count": 87,
   "metadata": {},
   "outputs": [
    {
     "data": {
      "text/html": [
       "<div>\n",
       "<style scoped>\n",
       "    .dataframe tbody tr th:only-of-type {\n",
       "        vertical-align: middle;\n",
       "    }\n",
       "\n",
       "    .dataframe tbody tr th {\n",
       "        vertical-align: top;\n",
       "    }\n",
       "\n",
       "    .dataframe thead th {\n",
       "        text-align: right;\n",
       "    }\n",
       "</style>\n",
       "<table border=\"1\" class=\"dataframe\">\n",
       "  <thead>\n",
       "    <tr style=\"text-align: right;\">\n",
       "      <th></th>\n",
       "      <th>Occupation entre 7h00 et 22h00</th>\n",
       "      <th>Occupation entre 13h00 et 17h00</th>\n",
       "      <th>Nombre d'heure en dépassement (50%)</th>\n",
       "      <th>Nombre d'heure en dépassement (60%)</th>\n",
       "    </tr>\n",
       "    <tr>\n",
       "      <th>ind_semaine</th>\n",
       "      <th></th>\n",
       "      <th></th>\n",
       "      <th></th>\n",
       "      <th></th>\n",
       "    </tr>\n",
       "  </thead>\n",
       "  <tbody>\n",
       "    <tr>\n",
       "      <th>Fin de semaine</th>\n",
       "      <td>52.850972</td>\n",
       "      <td>76.412667</td>\n",
       "      <td>9.400000</td>\n",
       "      <td>7.48</td>\n",
       "    </tr>\n",
       "    <tr>\n",
       "      <th>Semaine</th>\n",
       "      <td>30.173404</td>\n",
       "      <td>38.790923</td>\n",
       "      <td>4.466667</td>\n",
       "      <td>2.75</td>\n",
       "    </tr>\n",
       "  </tbody>\n",
       "</table>\n",
       "</div>"
      ],
      "text/plain": [
       "                Occupation entre 7h00 et 22h00  \\\n",
       "ind_semaine                                      \n",
       "Fin de semaine                       52.850972   \n",
       "Semaine                              30.173404   \n",
       "\n",
       "                Occupation entre 13h00 et 17h00  \\\n",
       "ind_semaine                                       \n",
       "Fin de semaine                        76.412667   \n",
       "Semaine                               38.790923   \n",
       "\n",
       "                Nombre d'heure en dépassement (50%)  \\\n",
       "ind_semaine                                           \n",
       "Fin de semaine                             9.400000   \n",
       "Semaine                                    4.466667   \n",
       "\n",
       "                Nombre d'heure en dépassement (60%)  \n",
       "ind_semaine                                          \n",
       "Fin de semaine                                 7.48  \n",
       "Semaine                                        2.75  "
      ]
     },
     "execution_count": 87,
     "metadata": {},
     "output_type": "execute_result"
    }
   ],
   "source": [
    "pd.concat([\n",
    "    df[mask].groupby('ind_semaine').occup.mean().to_frame('Occupation entre 7h00 et 22h00'),\n",
    "    df[mask & only_pm].groupby('ind_semaine').occup.mean().to_frame('Occupation entre 13h00 et 17h00'),\n",
    "    df[mask & sup50].groupby(['date', 'ind_semaine']).size().to_frame('Nombre d\\'heure en dépassement (50%)').groupby('ind_semaine').mean(),\n",
    "    df[mask & sup60].groupby(['date', 'ind_semaine']).size().to_frame('Nombre d\\'heure en dépassement (60%)').groupby('ind_semaine').mean()\n",
    "], axis=1)"
   ]
  }
 ],
 "metadata": {
  "kernelspec": {
   "display_name": "Python 3.11.0 ('momepy')",
   "language": "python",
   "name": "python3"
  },
  "language_info": {
   "codemirror_mode": {
    "name": "ipython",
    "version": 3
   },
   "file_extension": ".py",
   "mimetype": "text/x-python",
   "name": "python",
   "nbconvert_exporter": "python",
   "pygments_lexer": "ipython3",
   "version": "3.11.0"
  },
  "orig_nbformat": 4,
  "vscode": {
   "interpreter": {
    "hash": "21bccfdf4320af8c673376113358b6b50d45b9a306388d942596ae5b56776c9d"
   }
  }
 },
 "nbformat": 4,
 "nbformat_minor": 2
}
